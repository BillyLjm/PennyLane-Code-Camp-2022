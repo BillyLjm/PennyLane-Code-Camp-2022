{
 "cells": [
  {
   "cell_type": "markdown",
   "id": "7adf83f6-f94f-412b-bda4-25509c6caacc",
   "metadata": {},
   "source": [
    "# Universality: H, T and CNOT decomposition (500 points)\n",
    "We already know that universality can be achieved with the U3 gate and the CNOT gate. However, the U3 gate is parameterized so it is really a set of infinite possibilities. This is a problem since in certain situations, for example when delving into the theory behind QEC, we will see that we need to define a **finite** universal set of gates. Fortunately, it has been proven that it is sufficient to have the H, T and CNOT gates to be able to generate any other type of gate.\n",
    "\n",
    "There are indeed algorithms that allow us to approximate operators from these gates, but it is also important to learn tricks and circuit equivalences that allow us to simplify the process. This will be the objective of this challenge, we will be asked you to construct an operator U that satisfies the following equality:\n",
    "\n",
    "![Uni3.jpeg](img/Uni3.jpeg)\n",
    "\n",
    "i.e., given an arbitrary state, $|\\phi\\rangle |\\psi\\rangle$, transform it into $|\\psi\\rangle |\\phi\\rangle$. (What would be equivalent to a SWAP gate).\n",
    "\n",
    "To do so, you will only be able to use the H, T and CNOT gates. The solution is obtained exactly, no approximations of any kind are needed.\n",
    "\n",
    "Note: it is not allowed to use `qml.adjoint(T)`, you can only use H, T and CNOT.\n",
    "\n",
    "## Challenge code\n",
    "You simply have to define within the quantum function `U` the gates that form it. Remember that you are only allowed to use H, T and CNOT. You do not have to add anything else to the code.\n",
    "\n",
    "### Inputs and Outputs\n",
    "In this challenge we will not have inputs and outputs. The test will be done by checking that the matrix of your circuit coincides with that of the statement. To prototype your code, you can always print the matrix using `qml.matrix(U)`. It should be equal to the matrix associated to the [SWAP gate](https://docs.pennylane.ai/en/stable/code/api/pennylane.SWAP.html).\n",
    "\n",
    "If your solution matches the correct one within the given tolerance specified in `check` (in this case it's a `1e-05` relative error tolerance), the output will be `\"Correct!\"`. Otherwise, you will receive a `\"Wrong answer\"` prompt.\n",
    "\n",
    "Good luck!\n",
    "\n",
    "### Code"
   ]
  },
  {
   "cell_type": "code",
   "execution_count": 1,
   "id": "8c7df84a-9959-4284-a1cb-19a9c14b621f",
   "metadata": {},
   "outputs": [],
   "source": [
    "import functools\n",
    "import json\n",
    "import math\n",
    "import pandas as pd\n",
    "import pennylane as qml\n",
    "import pennylane.numpy as np\n",
    "import scipy"
   ]
  },
  {
   "cell_type": "code",
   "execution_count": 2,
   "id": "10f07a23-194c-460f-a4f5-045440717a4f",
   "metadata": {},
   "outputs": [],
   "source": [
    "def U():\n",
    "    \"\"\"\n",
    "    This quantum function will simply contain H, T and CNOT gates.\n",
    "    It will not return any value.\n",
    "    \"\"\"\n",
    "\n",
    "    # Put your solution here #\n",
    "    qml.Hadamard(wires=0)\n",
    "    qml.Hadamard(wires=1)\n",
    "    qml.CNOT(wires=[0, 1])\n",
    "\n",
    "    # sqrt(SWAP)\n",
    "    qml.CNOT(wires=[0,1])\n",
    "    qml.Hadamard(wires=0)\n",
    "    qml.T(wires=0)\n",
    "    for _ in range(7): # Tdg\n",
    "        qml.T(wires=1)\n",
    "    qml.Hadamard(wires=0)\n",
    "    qml.Hadamard(wires=1)\n",
    "    qml.CNOT(wires=[0,1])\n",
    "    qml.Hadamard(wires=0)\n",
    "    qml.Hadamard(wires=1)\n",
    "    for _ in range(7): # Tdg\n",
    "        qml.T(wires=0)\n",
    "    qml.Hadamard(wires=0)\n",
    "    qml.CNOT(wires=[0,1])\n",
    "    for _ in range(6): # Sdg\n",
    "        qml.T(wires=0)\n",
    "    for _ in range(2): # S\n",
    "        qml.T(wires=1)\n",
    "\n",
    "    qml.Hadamard(wires=0)\n",
    "    qml.Hadamard(wires=1)\n"
   ]
  },
  {
   "cell_type": "code",
   "execution_count": 3,
   "id": "26e90e2d-9c58-4c7c-a183-0c3d47efe20d",
   "metadata": {},
   "outputs": [],
   "source": [
    "dev = qml.device(\"default.qubit\", wires=2)\n",
    "\n",
    "@qml.qnode(dev)\n",
    "def circuit():\n",
    "    \"\"\"\n",
    "    Main circuit given in the statement, here the operators you have defined in U will be embedded.\n",
    "    \"\"\"\n",
    "\n",
    "    qml.CNOT(wires=[0, 1])\n",
    "\n",
    "    qml.Hadamard(wires=0)\n",
    "    qml.Hadamard(wires=1)\n",
    "\n",
    "    U()\n",
    "\n",
    "    qml.CNOT(wires=[1, 0])\n",
    "\n",
    "    U()\n",
    "\n",
    "    qml.Hadamard(wires=0)\n",
    "    qml.Hadamard(wires=1)\n",
    "\n",
    "    return qml.state()\n"
   ]
  },
  {
   "cell_type": "code",
   "execution_count": 4,
   "id": "0f058336-f036-4aee-8965-a4a104712371",
   "metadata": {},
   "outputs": [],
   "source": [
    "# These functions are responsible for testing the solution.\n",
    "\n",
    "def run(input: str) -> str:\n",
    "    matrix = qml.matrix(circuit)().real\n",
    "\n",
    "    with qml.tape.QuantumTape() as tape:\n",
    "        U()\n",
    "\n",
    "    names = [op.name for op in tape.operations]\n",
    "    return json.dumps({\"matrix\": matrix.tolist(), \"gates\": names})\n",
    "\n",
    "def check(user_output: str, expected_output: str) -> str:\n",
    "\n",
    "    parsed_output = json.loads(user_output)\n",
    "    matrix_user = np.array(parsed_output[\"matrix\"])\n",
    "    gates = parsed_output[\"gates\"]\n",
    "\n",
    "    assert np.allclose(matrix_user, qml.matrix(qml.SWAP)(wires=[0, 1]))\n",
    "    assert (\n",
    "        len(set(gates)) == 3\n",
    "        and \"Hadamard\" in gates\n",
    "        and \"CNOT\" in gates\n",
    "        and \"T\" in gates\n",
    "    )\n"
   ]
  },
  {
   "cell_type": "code",
   "execution_count": 5,
   "id": "eb53a77b-5463-4a2d-8a12-90778815f4bc",
   "metadata": {},
   "outputs": [],
   "source": [
    "test_cases = [['No input', 'No output']]"
   ]
  },
  {
   "cell_type": "code",
   "execution_count": 6,
   "id": "a0b26d93-78a5-4b79-b932-e3ff757fa00c",
   "metadata": {},
   "outputs": [
    {
     "name": "stdout",
     "output_type": "stream",
     "text": [
      "Running test case 0 with input 'No input'...\n",
      "Correct!\n"
     ]
    }
   ],
   "source": [
    "for i, (input_, expected_output) in enumerate(test_cases):\n",
    "    print(f\"Running test case {i} with input '{input_}'...\")\n",
    "\n",
    "    try:\n",
    "        output = run(input_)\n",
    "\n",
    "    except Exception as exc:\n",
    "        print(f\"Runtime Error. {exc}\")\n",
    "\n",
    "    else:\n",
    "        if message := check(output, expected_output):\n",
    "            print(f\"Wrong Answer. Have: '{output}'. Want: '{expected_output}'.\")\n",
    "\n",
    "        else:\n",
    "            print(\"Correct!\")"
   ]
  }
 ],
 "metadata": {
  "kernelspec": {
   "display_name": "pennylane",
   "language": "python",
   "name": "pennylane"
  },
  "language_info": {
   "codemirror_mode": {
    "name": "ipython",
    "version": 3
   },
   "file_extension": ".py",
   "mimetype": "text/x-python",
   "name": "python",
   "nbconvert_exporter": "python",
   "pygments_lexer": "ipython3",
   "version": "3.10.2"
  }
 },
 "nbformat": 4,
 "nbformat_minor": 5
}
